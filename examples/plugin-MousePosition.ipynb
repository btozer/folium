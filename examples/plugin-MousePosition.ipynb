{
 "cells": [
  {
   "cell_type": "code",
   "execution_count": 1,
   "metadata": {},
   "outputs": [],
   "source": [
    "import folium\n",
    "from folium.plugins import MousePosition"
   ]
  },
  {
   "cell_type": "code",
   "execution_count": 13,
   "metadata": {},
   "outputs": [
    {
     "data": {
      "text/html": [
       "<div style=\"width:100%;\"><div style=\"position:relative;width:100%;height:0;padding-bottom:60%;\"><iframe src=\"data:text/html;charset=utf-8;base64,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\" style=\"position:absolute;width:100%;height:100%;left:0;top:0;border:none !important;\" allowfullscreen webkitallowfullscreen mozallowfullscreen></iframe></div></div>"
      ],
      "text/plain": [
       "<folium.folium.Map at 0x11e3bcc50>"
      ]
     },
     "execution_count": 13,
     "metadata": {},
     "output_type": "execute_result"
    }
   ],
   "source": [
    "# Create a folium map\n",
    "map = folium.Map(location=[0.0, 0.0], zoom_start=1, \n",
    "                        attr='My Data Attribution', no_wrap=True)\n",
    "\n",
    "# Add a mouse position plugin with default parameters\n",
    "map.add_child(MousePosition())\n",
    "\n",
    "# Add a mouse position plugin with custom parameters\n",
    "map.add_child(MousePosition(position='topright', separator=' | ', empty_string='NaN', lng_first=True,\n",
    "                                   num_digits=20, prefix=\"Coordinates:\"))"
   ]
  }
 ],
 "metadata": {
  "kernelspec": {
   "display_name": "Python 3",
   "language": "python",
   "name": "python3"
  },
  "language_info": {
   "codemirror_mode": {
    "name": "ipython",
    "version": 3
   },
   "file_extension": ".py",
   "mimetype": "text/x-python",
   "name": "python",
   "nbconvert_exporter": "python",
   "pygments_lexer": "ipython3",
   "version": "3.6.4"
  }
 },
 "nbformat": 4,
 "nbformat_minor": 1
}
