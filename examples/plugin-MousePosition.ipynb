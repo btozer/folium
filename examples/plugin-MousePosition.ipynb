{
 "cells": [
  {
   "cell_type": "code",
   "execution_count": 7,
   "metadata": {
    "collapsed": true
   },
   "outputs": [],
   "source": [
    "import folium\n",
    "from folium.plugins import MousePosition"
   ]
  },
  {
   "cell_type": "code",
   "execution_count": 10,
   "metadata": {},
   "outputs": [
    {
     "ename": "TypeError",
     "evalue": "__init__() got an unexpected keyword argument 'lng_first'",
     "traceback": [
      "\u001b[0;31m---------------------------------------------------------------------------\u001b[0m",
      "\u001b[0;31mTypeError\u001b[0m                                 Traceback (most recent call last)",
      "\u001b[0;32m<ipython-input-10-1dd4f4b3ad87>\u001b[0m in \u001b[0;36m<module>\u001b[0;34m()\u001b[0m\n\u001b[1;32m      9\u001b[0m folium_map.add_child(MousePosition(position='topleft', separator=' <> ',\n\u001b[1;32m     10\u001b[0m                  \u001b[0mlng_first\u001b[0m\u001b[0;34m=\u001b[0m\u001b[0;32mTrue\u001b[0m\u001b[0;34m,\u001b[0m\u001b[0;34m\u001b[0m\u001b[0m\n\u001b[0;32m---> 11\u001b[0;31m                  num_digits=4, lng_formatter=None, lat_formatter=None))\n\u001b[0m",
      "\u001b[0;31mTypeError\u001b[0m: __init__() got an unexpected keyword argument 'lng_first'"
     ],
     "output_type": "error"
    }
   ],
   "source": [
    "# Create a folium map\n",
    "folium_map = folium.Map(location=[0.0, 0.0], zoom_start=1, \n",
    "                        attr='My Data Attribution', no_wrap=True)\n",
    "\n",
    "# Add a mouse position plugin with default parameters\n",
    "folium_map.add_child(MousePosition())\n",
    "\n",
    "# Add a mouse position plugin with custom parameters\n",
    "folium_map.add_child(MousePosition(position='topleft', separator=' <> ',\n",
    "                                   empty_string='NaN', lng_first=True,\n",
    "                                   num_digits=4, lng_formatter=None, \n",
    "                                   lat_formatter=None, prefix=\"Coordinates:\"))\n",
    "\n"
   ]
  },
  {
   "cell_type": "code",
   "execution_count": null,
   "metadata": {},
   "outputs": [],
   "source": []
  }
 ],
 "metadata": {
  "kernelspec": {
   "display_name": "Python 2",
   "language": "python",
   "name": "python2"
  },
  "language_info": {
   "codemirror_mode": {
    "name": "ipython",
    "version": 2
   },
   "file_extension": ".py",
   "mimetype": "text/x-python",
   "name": "python",
   "nbconvert_exporter": "python",
   "pygments_lexer": "ipython2",
   "version": "2.7.6"
  }
 },
 "nbformat": 4,
 "nbformat_minor": 0
}
